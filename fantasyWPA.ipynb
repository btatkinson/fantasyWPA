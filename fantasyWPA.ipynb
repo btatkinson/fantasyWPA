{
 "cells": [
  {
   "cell_type": "code",
   "execution_count": 1,
   "metadata": {},
   "outputs": [
    {
     "data": {
      "text/plain": [
       "0"
      ]
     },
     "execution_count": 1,
     "metadata": {},
     "output_type": "execute_result"
    }
   ],
   "source": [
    "import numpy as np\n",
    "import pandas as pd\n",
    "\n",
    "import math\n",
    "import gc\n",
    "gc.collect()\n"
   ]
  },
  {
   "cell_type": "markdown",
   "metadata": {},
   "source": [
    "### Load Data"
   ]
  },
  {
   "cell_type": "code",
   "execution_count": 2,
   "metadata": {},
   "outputs": [
    {
     "name": "stderr",
     "output_type": "stream",
     "text": [
      "/usr/local/lib/python3.7/site-packages/IPython/core/interactiveshell.py:3049: DtypeWarning: Columns (42,166,167,174,175,178,179,182,183,188,189,190,191,203,204,205,231,232,233,238,240,241) have mixed types. Specify dtype option on import or set low_memory=False.\n",
      "  interactivity=interactivity, compiler=compiler, result=result)\n",
      "/usr/local/lib/python3.7/site-packages/IPython/core/interactiveshell.py:3049: DtypeWarning: Columns (166,167,168,169,174,175,178,179,182,183,188,189,190,191,194,195,203,204,205,218,219,220,231,232,233,238,240,241,249) have mixed types. Specify dtype option on import or set low_memory=False.\n",
      "  interactivity=interactivity, compiler=compiler, result=result)\n",
      "/usr/local/lib/python3.7/site-packages/IPython/core/interactiveshell.py:3049: DtypeWarning: Columns (37,38,39,42,46,47,166,167,168,169,172,173,174,175,176,177,178,179,182,183,184,185,188,189,190,191,192,193,194,195,198,199,203,204,205,224,225,226,227,231,232,233,238,240,241,244,245,246,250) have mixed types. Specify dtype option on import or set low_memory=False.\n",
      "  interactivity=interactivity, compiler=compiler, result=result)\n",
      "/usr/local/lib/python3.7/site-packages/IPython/core/interactiveshell.py:3049: DtypeWarning: Columns (166,167,168,169,174,175,178,179,182,183,188,189,190,191,198,199,200,201,202,203,204,205,207,209,211,226,227,231,232,233,238,240,241) have mixed types. Specify dtype option on import or set low_memory=False.\n",
      "  interactivity=interactivity, compiler=compiler, result=result)\n",
      "/usr/local/lib/python3.7/site-packages/IPython/core/interactiveshell.py:3049: DtypeWarning: Columns (166,167,168,169,178,179,182,183,188,189,190,191,194,195,198,199,203,204,205,226,227,231,232,233,238,240,241) have mixed types. Specify dtype option on import or set low_memory=False.\n",
      "  interactivity=interactivity, compiler=compiler, result=result)\n",
      "/usr/local/lib/python3.7/site-packages/IPython/core/interactiveshell.py:3049: DtypeWarning: Columns (42,166,167,168,169,174,175,178,179,182,183,188,189,190,191,203,204,205,231,232,233,238,240,241) have mixed types. Specify dtype option on import or set low_memory=False.\n",
      "  interactivity=interactivity, compiler=compiler, result=result)\n",
      "/usr/local/lib/python3.7/site-packages/IPython/core/interactiveshell.py:3049: DtypeWarning: Columns (42,166,167,174,175,178,179,182,183,188,189,203,204,205,231,232,233,238,240,241) have mixed types. Specify dtype option on import or set low_memory=False.\n",
      "  interactivity=interactivity, compiler=compiler, result=result)\n",
      "/usr/local/lib/python3.7/site-packages/IPython/core/interactiveshell.py:3049: DtypeWarning: Columns (167,168,169,170,175,176,179,180,183,184,189,190,191,192,195,196,199,200,204,205,206,227,228,232,233,234,239,241,242) have mixed types. Specify dtype option on import or set low_memory=False.\n",
      "  interactivity=interactivity, compiler=compiler, result=result)\n",
      "/usr/local/lib/python3.7/site-packages/ipykernel_launcher.py:9: FutureWarning: Sorting because non-concatenation axis is not aligned. A future version\n",
      "of pandas will change to not sort by default.\n",
      "\n",
      "To accept the future behavior, pass 'sort=False'.\n",
      "\n",
      "To retain the current behavior and silence the warning, pass 'sort=True'.\n",
      "\n",
      "  if __name__ == '__main__':\n",
      "/usr/local/lib/python3.7/site-packages/IPython/core/interactiveshell.py:3049: DtypeWarning: Columns (42,167,168,169,170,175,176,179,180,183,184,189,190,191,192,199,200,204,205,206,227,228,232,233,234,239,241,242,250) have mixed types. Specify dtype option on import or set low_memory=False.\n",
      "  interactivity=interactivity, compiler=compiler, result=result)\n",
      "/usr/local/lib/python3.7/site-packages/IPython/core/interactiveshell.py:3049: DtypeWarning: Columns (42,167,168,169,170,179,180,183,184,189,190,191,192,199,200,201,202,203,204,205,206,208,210,212,227,228,229,230,231,232,233,234,235,237,238,239,241,242,250) have mixed types. Specify dtype option on import or set low_memory=False.\n",
      "  interactivity=interactivity, compiler=compiler, result=result)\n"
     ]
    }
   ],
   "source": [
    "seasons = list(range(2009,2019)) # creates list of years through 2018\n",
    "\n",
    "# merge seasons into one df\n",
    "df = pd.DataFrame()\n",
    "for season in seasons:\n",
    "    path = './../data/nflscrapR-data/play_by_play_data/regular_season/reg_pbp_'+str(season)+'.csv'\n",
    "    season_df = pd.read_csv(path)\n",
    "    season_df['season'] = season\n",
    "    df = pd.concat([df, season_df], axis=0)"
   ]
  },
  {
   "cell_type": "markdown",
   "metadata": {},
   "source": [
    "### Clean Steps"
   ]
  },
  {
   "cell_type": "code",
   "execution_count": 105,
   "metadata": {},
   "outputs": [
    {
     "name": "stdout",
     "output_type": "stream",
     "text": [
      "452661\n"
     ]
    }
   ],
   "source": [
    "# standardize jaguars abbrev\n",
    "df['posteam']=df['posteam'].replace('JAC','JAX')\n",
    "\n",
    "# some typical cleaning that I don't do here\n",
    "\n",
    "# drop redzone plays & inside own 5\n",
    "# df = df.loc[(df.yardline_100 > 20) & (df.yardline_100 < 95)]\n",
    "\n",
    "# drop extreme win probabilities (about 4% of plays)\n",
    "# df = df.loc[(df['wp']>=0.05) | (df['wp']<=0.95)]\n",
    "\n",
    "# drop afc and nfc\n",
    "\n",
    "conf_teams = ['AFC','NFC','IRV','APR','NPR','RIC','SANS']\n",
    "df = df.loc[~df['posteam'].isin(conf_teams)]\n",
    "print(len(df))"
   ]
  },
  {
   "cell_type": "code",
   "execution_count": 106,
   "metadata": {},
   "outputs": [
    {
     "name": "stdout",
     "output_type": "stream",
     "text": [
      "321676\n"
     ]
    }
   ],
   "source": [
    "# eliminate special teams\n",
    "pos_df = df.loc[(df['play_type']=='run') | (df['play_type']=='pass')]\n",
    "print(len(pos_df))"
   ]
  },
  {
   "cell_type": "code",
   "execution_count": 107,
   "metadata": {},
   "outputs": [
    {
     "name": "stderr",
     "output_type": "stream",
     "text": [
      "/usr/local/lib/python3.7/site-packages/ipykernel_launcher.py:1: SettingWithCopyWarning: \n",
      "A value is trying to be set on a copy of a slice from a DataFrame.\n",
      "Try using .loc[row_indexer,col_indexer] = value instead\n",
      "\n",
      "See the caveats in the documentation: http://pandas.pydata.org/pandas-docs/stable/indexing.html#indexing-view-versus-copy\n",
      "  \"\"\"Entry point for launching an IPython kernel.\n"
     ]
    },
    {
     "name": "stdout",
     "output_type": "stream",
     "text": [
      "321676\n",
      "321675\n"
     ]
    }
   ],
   "source": [
    "pos_df['first_down'] =  pos_df['first_down_rush'] + pos_df['first_down_pass']\n",
    "print(len(pos_df))\n",
    "pos_df = pos_df.loc[pos_df['first_down']<2]\n",
    "print(len(pos_df))\n",
    "pos_df = pos_df.dropna(subset=['first_down'])"
   ]
  },
  {
   "cell_type": "code",
   "execution_count": 108,
   "metadata": {},
   "outputs": [
    {
     "name": "stdout",
     "output_type": "stream",
     "text": [
      "243456\n",
      "241824\n"
     ]
    }
   ],
   "source": [
    "# print(list(df))\n",
    "\n",
    "pos_df = pos_df[['play_type','yards_gained','first_down', 'complete_pass', 'fumble','touchdown','safety','two_point_conv_result','epa','wpa']]\n",
    "\n",
    "pos_df['two_point_conv_result'] = pos_df['two_point_conv_result'].apply(lambda x: 1 if x == 'success' else 0)\n",
    "\n",
    "pos_df = pos_df.rename(columns={'complete_pass':'reception'})\n",
    "\n",
    "# drop incompletions when calculating positional lpayers\n",
    "pos_df = pos_df.loc[(pos_df['reception']==1) | (pos_df['play_type']=='run')]\n",
    "\n",
    "pos_df = pos_df.drop(columns=['play_type'])\n",
    "\n",
    "print(len(pos_df))\n",
    "pos_df = pos_df.dropna()\n",
    "print(len(pos_df))"
   ]
  },
  {
   "cell_type": "markdown",
   "metadata": {},
   "source": [
    "### Heatmap"
   ]
  },
  {
   "cell_type": "code",
   "execution_count": 109,
   "metadata": {},
   "outputs": [
    {
     "data": {
      "image/png": "[encoded data removed]",
      "text/plain": [
       "<Figure size 1152x792 with 2 Axes>"
      ]
     },
     "metadata": {
      "needs_background": "light"
     },
     "output_type": "display_data"
    }
   ],
   "source": [
    "import seaborn as sns\n",
    "import matplotlib.pyplot as plt\n",
    "\n",
    "# change gc column order\n",
    "\n",
    "fig, ax = plt.subplots(figsize=(16, 11))\n",
    "\n",
    "#saleprice correlation matrix\n",
    "sns.heatmap(pos_df.corr(),\n",
    "            cmap='coolwarm',\n",
    "            annot=True,\n",
    "            fmt=\".2f\",\n",
    "            annot_kws={'size':10},\n",
    "            cbar=True,\n",
    "            square=False)\n",
    "\n",
    "fig.savefig('./plots/Pos_Heatmap.png', bbox_inches='tight')\n",
    "plt.show()"
   ]
  },
  {
   "cell_type": "code",
   "execution_count": 114,
   "metadata": {},
   "outputs": [
    {
     "name": "stdout",
     "output_type": "stream",
     "text": [
      "epa 0.7342894707461963\n",
      "wpa 0.4806009466859058\n",
      "epa multiplier 1.420987763553612\n",
      "wpa multiplier 51.569193220010355\n",
      "                    Stat  EPA fpts  WPA fpts\n",
      "0           yards_gained      0.10      0.10\n",
      "1             first_down      1.13      1.12\n",
      "2              reception      0.18      0.15\n",
      "3                 fumble     -3.43     -2.90\n",
      "4              touchdown      1.70      1.71\n",
      "5                 safety      0.96      1.17\n",
      "6  two_point_conv_result      2.06      1.96\n"
     ]
    }
   ],
   "source": [
    "from sklearn.model_selection import train_test_split \n",
    "from sklearn.linear_model import LinearRegression,Lasso \n",
    "from sklearn.metrics import log_loss\n",
    "\n",
    "X_df = pos_df[['yards_gained','first_down', 'reception', 'fumble','touchdown','two_point_conv_result']]\n",
    "X = X_df.values\n",
    "y = pos_df['epa'].values\n",
    "y2 = pos_df['wpa'].values\n",
    "X_train, X_test, y_train, y_test = train_test_split(X,y,test_size=0.2, random_state=17)\n",
    "\n",
    "regressor = LinearRegression()\n",
    "regressor.fit(X, y)\n",
    "\n",
    "regressor2 = LinearRegression()\n",
    "regressor2.fit(X, y2)\n",
    "\n",
    "print(\"epa\",regressor.score(X, y))\n",
    "print(\"wpa\",regressor2.score(X, y2))\n",
    "\n",
    "multiplier = 0.1/regressor.coef_[0]\n",
    "print(\"epa multiplier\",multiplier)\n",
    "\n",
    "multiplier2 = 0.1/regressor2.coef_[0]\n",
    "print(\"wpa multiplier\",multiplier2)\n",
    "\n",
    "epa = regressor.coef_ * multiplier\n",
    "wpa = regressor2.coef_ * multiplier2\n",
    "\n",
    "wpa_rounded = [0.1,1,0.2,-3,2,2]\n",
    "\n",
    "score_df = pd.DataFrame(zip(X_df.columns,epa, wpa, wpa_rounded), columns=['Stat','EPA fpts', 'WPA fpts', 'WPA rounded'])\n",
    "\n",
    "score_df = score_df.reset_index()\n",
    "score_df = score_df.drop(columns=['index'])\n",
    "score_df = score_df.round(2)\n",
    "score_df"
   ]
  },
  {
   "cell_type": "code",
   "execution_count": 117,
   "metadata": {},
   "outputs": [],
   "source": [
    "qb_df = df.loc[df['play_type']=='pass']"
   ]
  },
  {
   "cell_type": "code",
   "execution_count": 118,
   "metadata": {},
   "outputs": [
    {
     "name": "stdout",
     "output_type": "stream",
     "text": [
      "3106.0\n",
      "1828\n"
     ]
    }
   ],
   "source": [
    "qb_df = qb_df[['yards_gained','first_down_pass', 'complete_pass','incomplete_pass','fumble','sack','interception','touchdown','two_point_conv_result','epa','wpa']]\n",
    "\n",
    "qb_df['two_point_conv_result'] = qb_df['two_point_conv_result'].apply(lambda x: 1 if x == 'success' else 0)\n",
    "\n",
    "\n",
    "def drop_receiver_fumbles(complete_pass,fumble):\n",
    "    if complete_pass == 0:\n",
    "        if fumble == 1:\n",
    "            return 1\n",
    "    return 0\n",
    "\n",
    "# drop receiver fumbles (when there is a completed pass AND a fumble in the same play, fumble = 0)\n",
    "print(qb_df['fumble'].sum())\n",
    "qb_df['fumble'] = qb_df.apply(lambda row: drop_receiver_fumbles(row['complete_pass'],row['fumble']),axis=1)\n",
    "print(qb_df['fumble'].sum())\n"
   ]
  },
  {
   "cell_type": "code",
   "execution_count": 121,
   "metadata": {},
   "outputs": [
    {
     "name": "stdout",
     "output_type": "stream",
     "text": [
      "186840\n",
      "186840\n",
      "epa 0.7706235323737743\n",
      "wpa 0.5407277469735939\n",
      "epa multiplier 1.5470164568183362\n",
      "wpa multiplier 55.06756089003045\n",
      "                    Stat  EPA fpts  WPA fpts  WPA rounded\n",
      "0           yards_gained      0.10      0.10          0.1\n",
      "1        first_down_pass      1.53      1.48          1.5\n",
      "2          complete_pass      0.60      0.58          0.5\n",
      "3                 fumble     -2.60     -1.78         -2.0\n",
      "4                   sack     -0.37     -0.27         -0.3\n",
      "5           interception     -5.58     -4.15         -4.0\n",
      "6              touchdown      1.43      1.77          2.0\n",
      "7  two_point_conv_result      2.74      2.62          3.0\n"
     ]
    }
   ],
   "source": [
    "print(len(qb_df))\n",
    "qb_df = qb_df.dropna()\n",
    "print(len(qb_df))\n",
    "\n",
    "X_df = qb_df[['yards_gained','first_down_pass', 'complete_pass','fumble','sack','interception','touchdown','two_point_conv_result']]\n",
    "X = X_df.values\n",
    "y = qb_df['epa'].values\n",
    "y2 = qb_df['wpa'].values\n",
    "X_train, X_test, y_train, y_test = train_test_split(X,y,test_size=0.2, random_state=17)\n",
    "\n",
    "regressor = LinearRegression()\n",
    "regressor.fit(X, y)\n",
    "\n",
    "regressor2 = LinearRegression()\n",
    "regressor2.fit(X, y2)\n",
    "\n",
    "print(\"epa\",regressor.score(X, y))\n",
    "print(\"wpa\",regressor2.score(X, y2))\n",
    "\n",
    "multiplier = 0.1/regressor.coef_[0]\n",
    "print(\"epa multiplier\",multiplier)\n",
    "\n",
    "multiplier2 = 0.1/regressor2.coef_[0]\n",
    "print(\"wpa multiplier\",multiplier2)\n",
    "\n",
    "epa = regressor.coef_ * multiplier\n",
    "wpa = regressor2.coef_ * multiplier2\n",
    "\n",
    "wpa_rounded = [0.1,1.5,0.5,-2,-0.3,-4,2,3]\n",
    "\n",
    "score_df = pd.DataFrame(zip(X_df.columns,epa, wpa, wpa_rounded), columns=['Stat','EPA fpts', 'WPA fpts', 'WPA rounded'])\n",
    "\n",
    "score_df = score_df.reset_index()\n",
    "score_df = score_df.drop(columns=['index'])\n",
    "score_df = score_df.round(2)\n",
    "score_df"
   ]
  },
  {
   "cell_type": "code",
   "execution_count": null,
   "metadata": {},
   "outputs": [],
   "source": []
  }
 ],
 "metadata": {
  "kernelspec": {
   "display_name": "Python 3",
   "language": "python",
   "name": "python3"
  },
  "language_info": {
   "codemirror_mode": {
    "name": "ipython",
    "version": 3
   },
   "file_extension": ".py",
   "mimetype": "text/x-python",
   "name": "python",
   "nbconvert_exporter": "python",
   "pygments_lexer": "ipython3",
   "version": "3.7.4"
  }
 },
 "nbformat": 4,
 "nbformat_minor": 2
}
